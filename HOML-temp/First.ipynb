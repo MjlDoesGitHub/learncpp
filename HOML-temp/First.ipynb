{
 "cells": [
  {
   "cell_type": "code",
   "execution_count": null,
   "id": "4bff8930",
   "metadata": {},
   "outputs": [],
   "source": [
    "import matplotlib.pyplot as plt\n",
    "import numpy as np\n",
    "import pandas as pd\n",
    "from sklearn.linear_model import LinearRegression"
   ]
  },
  {
   "cell_type": "code",
   "execution_count": null,
   "id": "dc5cf072",
   "metadata": {},
   "outputs": [],
   "source": [
    "# Download and prepare the data\n",
    "data_root = \"https://github.com/ageron/data/raw/main/\"\n",
    "lifesat = pd.read_csv(data_root + \"lifesat/lifesat.csv\")"
   ]
  },
  {
   "cell_type": "code",
   "execution_count": null,
   "id": "c92cf82d",
   "metadata": {},
   "outputs": [],
   "source": [
    "lifesat"
   ]
  },
  {
   "cell_type": "code",
   "execution_count": null,
   "id": "683c0191",
   "metadata": {},
   "outputs": [],
   "source": [
    "data_root + \"lifesat/lifesat.csv\""
   ]
  },
  {
   "cell_type": "code",
   "execution_count": null,
   "id": "faf1f3be",
   "metadata": {},
   "outputs": [],
   "source": [
    "X = lifesat[[\"GDP per capita (USD)\"]].values"
   ]
  },
  {
   "cell_type": "code",
   "execution_count": null,
   "id": "02361140",
   "metadata": {},
   "outputs": [],
   "source": [
    "X"
   ]
  },
  {
   "cell_type": "code",
   "execution_count": null,
   "id": "8ae2d7fd",
   "metadata": {},
   "outputs": [],
   "source": [
    "lifesat[[\"GDP per capita (USD)\"]]"
   ]
  },
  {
   "cell_type": "code",
   "execution_count": null,
   "id": "0f97a343",
   "metadata": {},
   "outputs": [],
   "source": [
    "y = lifesat[[\"Life satisfaction\"]].values"
   ]
  },
  {
   "cell_type": "code",
   "execution_count": null,
   "id": "62d6cbbb",
   "metadata": {},
   "outputs": [],
   "source": [
    "y"
   ]
  },
  {
   "cell_type": "code",
   "execution_count": null,
   "id": "be514df2",
   "metadata": {},
   "outputs": [],
   "source": [
    "lifesat[[\"Life satisfaction\"]]"
   ]
  },
  {
   "cell_type": "code",
   "execution_count": null,
   "id": "b3a59fff",
   "metadata": {},
   "outputs": [],
   "source": [
    "lifesat.plot(kind='scatter', grid=True,\n",
    "x=\"GDP per capita (USD)\", y=\"Life satisfaction\")"
   ]
  },
  {
   "cell_type": "code",
   "execution_count": null,
   "id": "244d4cf9",
   "metadata": {},
   "outputs": [],
   "source": [
    "lifesat.plot(kind='scatter', grid=True,\n",
    "x=\"GDP per capita (USD)\", y=\"Life satisfaction\")\n",
    "plt.axis([23_500, 62_500, 4, 9])"
   ]
  },
  {
   "cell_type": "code",
   "execution_count": null,
   "id": "da908bd5",
   "metadata": {},
   "outputs": [],
   "source": [
    "plt.show()"
   ]
  },
  {
   "cell_type": "code",
   "execution_count": null,
   "id": "e57be17b",
   "metadata": {},
   "outputs": [],
   "source": [
    "# Select a linear model\n",
    "model = LinearRegression()"
   ]
  },
  {
   "cell_type": "code",
   "execution_count": null,
   "id": "997a448f",
   "metadata": {},
   "outputs": [],
   "source": [
    "model.fit(X, y)"
   ]
  },
  {
   "cell_type": "code",
   "execution_count": null,
   "id": "082559d3",
   "metadata": {},
   "outputs": [],
   "source": [
    "# Make a prediction for Cyprus\n",
    "X_new = [[37_655.2]] # Cyprus' GDP per capita in 2020\n",
    "print(model.predict(X_new)) # output: [[6.30165767]]\n"
   ]
  },
  {
   "cell_type": "code",
   "execution_count": null,
   "id": "284e7e65",
   "metadata": {},
   "outputs": [],
   "source": []
  }
 ],
 "metadata": {
  "kernelspec": {
   "display_name": "base",
   "language": "python",
   "name": "python3"
  },
  "language_info": {
   "codemirror_mode": {
    "name": "ipython",
    "version": 3
   },
   "file_extension": ".py",
   "mimetype": "text/x-python",
   "name": "python",
   "nbconvert_exporter": "python",
   "pygments_lexer": "ipython3",
   "version": "3.9.12"
  },
  "vscode": {
   "interpreter": {
    "hash": "d6fb3b26ffcd97db4b0813cca8da8814a33fad1df7abb64aaaedff323e58936d"
   }
  }
 },
 "nbformat": 4,
 "nbformat_minor": 5
}
