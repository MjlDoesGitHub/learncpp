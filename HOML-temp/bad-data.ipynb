{
 "cells": [
  {
   "attachments": {},
   "cell_type": "markdown",
   "metadata": {},
   "source": [
    "# Nonrepresentative Data in Action"
   ]
  },
  {
   "attachments": {},
   "cell_type": "markdown",
   "metadata": {},
   "source": [
    "In order to generalize well, it is crucial that your training data be representative of the new cases you want to generalize to. This is true whether you use instance-based learning or model-based learning.\n",
    "\n",
    "It is crucial to use a training set that is representative of the cases you want to\n",
    "generalize to. This is often harder than it sounds: if the sample is too small, you\n",
    "will have sampling noise (i.e., nonrepresentative data as a result of chance), but even\n",
    "very large samples can be nonrepresentative if the sampling method is flawed. This is\n",
    "called sampling bias."
   ]
  },
  {
   "attachments": {},
   "cell_type": "markdown",
   "metadata": {},
   "source": [
    "## Import Libraries"
   ]
  },
  {
   "attachments": {},
   "cell_type": "markdown",
   "metadata": {},
   "source": [
    "Thoughout the semester when working on ML projects, we will most certainly utilize Python libraries that are often used by data scientists (given that we will be handling data to feed into our models). \n",
    "\n",
    "NumPy (or Numpy) is a Linear Algebra Library for Python, the reason it is so important for Data Science with Python is that almost all of the libraries in the PyData Ecosystem rely on NumPy as one of their main building blocks.\n",
    "\n",
    "Pandas is also an open source library build on top of NumPy. It allows for fast analysis and data cleaning and preparation (and even has a few built-in visualization features).\n",
    "\n",
    "However, we will be using other libraries. One of them is Matplotlib, which is the most popular plotting library for Python. It gives you control over every aspect of a figure, and was designed to have a similar feel to MatLab's graphical plotting."
   ]
  },
  {
   "cell_type": "code",
   "execution_count": 150,
   "metadata": {},
   "outputs": [],
   "source": [
    "import numpy as np\n",
    "import pandas as pd\n",
    "import matplotlib.pyplot as plt"
   ]
  },
  {
   "attachments": {},
   "cell_type": "markdown",
   "metadata": {},
   "source": [
    "## Literary Digest Poll"
   ]
  },
  {
   "attachments": {},
   "cell_type": "markdown",
   "metadata": {},
   "source": [
    "The table below gives the results of a poll published by The Literary Digest magazine on 31 October 1936 (Halloween, appropriately enough), shortly before the 1936 presidential election. The candidates were Franklin Delano Roosevelt (the incumbent president, a democrat) and Alfred (Alf) Mossman Landon (the republican challenger, then governor of Kansas). Approximately 10,000,000 questionnaires (in the form of postcards) were mailed to prospective voters, making the Literary Digest poll one of the largest ever conducted. Approximately 2,300,000 were returned. The prospective voters were chosen from the subscription list of the magazine, from automobile registration lists, from phone lists, and from club membership lists.\n",
    "\n",
    "In the data table, the results are given by state. (There were 48 states in 1936.) For each state, the table gives the number of electoral votes, the number of votes for Landon in the poll, and the number of votes for Roosevelt in the poll."
   ]
  },
  {
   "cell_type": "code",
   "execution_count": 151,
   "metadata": {},
   "outputs": [],
   "source": [
    "literary_digest = pd.read_table('data-main/literary_digest.tsv',sep='\\t')"
   ]
  },
  {
   "cell_type": "code",
   "execution_count": 152,
   "metadata": {},
   "outputs": [
    {
     "data": {
      "text/html": [
       "<div>\n",
       "<style scoped>\n",
       "    .dataframe tbody tr th:only-of-type {\n",
       "        vertical-align: middle;\n",
       "    }\n",
       "\n",
       "    .dataframe tbody tr th {\n",
       "        vertical-align: top;\n",
       "    }\n",
       "\n",
       "    .dataframe thead th {\n",
       "        text-align: right;\n",
       "    }\n",
       "</style>\n",
       "<table border=\"1\" class=\"dataframe\">\n",
       "  <thead>\n",
       "    <tr style=\"text-align: right;\">\n",
       "      <th></th>\n",
       "      <th>State</th>\n",
       "      <th>EV</th>\n",
       "      <th>AML</th>\n",
       "      <th>FDR</th>\n",
       "    </tr>\n",
       "  </thead>\n",
       "  <tbody>\n",
       "    <tr>\n",
       "      <th>0</th>\n",
       "      <td>AL</td>\n",
       "      <td>11</td>\n",
       "      <td>3060</td>\n",
       "      <td>10082</td>\n",
       "    </tr>\n",
       "    <tr>\n",
       "      <th>1</th>\n",
       "      <td>AZ</td>\n",
       "      <td>3</td>\n",
       "      <td>2337</td>\n",
       "      <td>1975</td>\n",
       "    </tr>\n",
       "    <tr>\n",
       "      <th>2</th>\n",
       "      <td>AR</td>\n",
       "      <td>9</td>\n",
       "      <td>2724</td>\n",
       "      <td>7608</td>\n",
       "    </tr>\n",
       "    <tr>\n",
       "      <th>3</th>\n",
       "      <td>CA</td>\n",
       "      <td>22</td>\n",
       "      <td>89516</td>\n",
       "      <td>7608</td>\n",
       "    </tr>\n",
       "    <tr>\n",
       "      <th>4</th>\n",
       "      <td>CO</td>\n",
       "      <td>6</td>\n",
       "      <td>15949</td>\n",
       "      <td>10025</td>\n",
       "    </tr>\n",
       "  </tbody>\n",
       "</table>\n",
       "</div>"
      ],
      "text/plain": [
       "  State  EV    AML    FDR\n",
       "0    AL  11   3060  10082\n",
       "1    AZ   3   2337   1975\n",
       "2    AR   9   2724   7608\n",
       "3    CA  22  89516   7608\n",
       "4    CO   6  15949  10025"
      ]
     },
     "execution_count": 152,
     "metadata": {},
     "output_type": "execute_result"
    }
   ],
   "source": [
    "literary_digest.head()"
   ]
  },
  {
   "cell_type": "code",
   "execution_count": 153,
   "metadata": {},
   "outputs": [
    {
     "name": "stdout",
     "output_type": "stream",
     "text": [
      "<class 'pandas.core.frame.DataFrame'>\n",
      "RangeIndex: 49 entries, 0 to 48\n",
      "Data columns (total 4 columns):\n",
      " #   Column  Non-Null Count  Dtype \n",
      "---  ------  --------------  ----- \n",
      " 0   State   49 non-null     object\n",
      " 1   EV      49 non-null     int64 \n",
      " 2   AML     49 non-null     int64 \n",
      " 3   FDR     49 non-null     int64 \n",
      "dtypes: int64(3), object(1)\n",
      "memory usage: 1.7+ KB\n"
     ]
    }
   ],
   "source": [
    "literary_digest.info()"
   ]
  },
  {
   "cell_type": "code",
   "execution_count": 154,
   "metadata": {},
   "outputs": [
    {
     "data": {
      "text/html": [
       "<div>\n",
       "<style scoped>\n",
       "    .dataframe tbody tr th:only-of-type {\n",
       "        vertical-align: middle;\n",
       "    }\n",
       "\n",
       "    .dataframe tbody tr th {\n",
       "        vertical-align: top;\n",
       "    }\n",
       "\n",
       "    .dataframe thead th {\n",
       "        text-align: right;\n",
       "    }\n",
       "</style>\n",
       "<table border=\"1\" class=\"dataframe\">\n",
       "  <thead>\n",
       "    <tr style=\"text-align: right;\">\n",
       "      <th></th>\n",
       "      <th>EV</th>\n",
       "      <th>AML</th>\n",
       "      <th>FDR</th>\n",
       "    </tr>\n",
       "  </thead>\n",
       "  <tbody>\n",
       "    <tr>\n",
       "      <th>count</th>\n",
       "      <td>49.00000</td>\n",
       "      <td>49.000000</td>\n",
       "      <td>49.000000</td>\n",
       "    </tr>\n",
       "    <tr>\n",
       "      <th>mean</th>\n",
       "      <td>11.22449</td>\n",
       "      <td>26123.285714</td>\n",
       "      <td>17751.530612</td>\n",
       "    </tr>\n",
       "    <tr>\n",
       "      <th>std</th>\n",
       "      <td>8.89116</td>\n",
       "      <td>36131.797539</td>\n",
       "      <td>24458.163552</td>\n",
       "    </tr>\n",
       "    <tr>\n",
       "      <th>min</th>\n",
       "      <td>3.00000</td>\n",
       "      <td>848.000000</td>\n",
       "      <td>545.000000</td>\n",
       "    </tr>\n",
       "    <tr>\n",
       "      <th>25%</th>\n",
       "      <td>5.00000</td>\n",
       "      <td>3686.000000</td>\n",
       "      <td>4507.000000</td>\n",
       "    </tr>\n",
       "    <tr>\n",
       "      <th>50%</th>\n",
       "      <td>9.00000</td>\n",
       "      <td>10401.000000</td>\n",
       "      <td>10235.000000</td>\n",
       "    </tr>\n",
       "    <tr>\n",
       "      <th>75%</th>\n",
       "      <td>13.00000</td>\n",
       "      <td>31871.000000</td>\n",
       "      <td>19829.000000</td>\n",
       "    </tr>\n",
       "    <tr>\n",
       "      <th>max</th>\n",
       "      <td>47.00000</td>\n",
       "      <td>162260.000000</td>\n",
       "      <td>139277.000000</td>\n",
       "    </tr>\n",
       "  </tbody>\n",
       "</table>\n",
       "</div>"
      ],
      "text/plain": [
       "             EV            AML            FDR\n",
       "count  49.00000      49.000000      49.000000\n",
       "mean   11.22449   26123.285714   17751.530612\n",
       "std     8.89116   36131.797539   24458.163552\n",
       "min     3.00000     848.000000     545.000000\n",
       "25%     5.00000    3686.000000    4507.000000\n",
       "50%     9.00000   10401.000000   10235.000000\n",
       "75%    13.00000   31871.000000   19829.000000\n",
       "max    47.00000  162260.000000  139277.000000"
      ]
     },
     "execution_count": 154,
     "metadata": {},
     "output_type": "execute_result"
    }
   ],
   "source": [
    "literary_digest.describe()"
   ]
  },
  {
   "cell_type": "code",
   "execution_count": 155,
   "metadata": {},
   "outputs": [],
   "source": [
    "ld_states = literary_digest['State']\n",
    "ld_landon = literary_digest['AML']\n",
    "ld_roosevelt = literary_digest['FDR']"
   ]
  },
  {
   "cell_type": "code",
   "execution_count": 156,
   "metadata": {},
   "outputs": [
    {
     "data": {
      "image/png": "[encoded data removed]",
      "text/plain": [
       "<Figure size 1008x720 with 1 Axes>"
      ]
     },
     "metadata": {
      "needs_background": "light"
     },
     "output_type": "display_data"
    }
   ],
   "source": [
    "fig = plt.figure(figsize=(14,10))\n",
    "p1 = plt.barh(ld_states, ld_landon)\n",
    "p2 = plt.barh(ld_states, ld_roosevelt)\n",
    "plt.xlabel('Electoral Votes')\n",
    "plt.title('Literary Digest Sample Statistic')\n",
    "plt.ylabel('States')\n",
    "plt.legend((p1[0], p2[0]), ('Landon', 'Roosevelt'))\n",
    "plt.show()"
   ]
  },
  {
   "cell_type": "code",
   "execution_count": 157,
   "metadata": {},
   "outputs": [],
   "source": [
    "ld_total_roosevelt = ld_roosevelt.sum()\n",
    "ld_total_landon = ld_landon.sum()\n",
    "ld_total_difference = abs(ld_total_roosevelt - ld_total_landon)"
   ]
  },
  {
   "cell_type": "code",
   "execution_count": 158,
   "metadata": {},
   "outputs": [
    {
     "name": "stdout",
     "output_type": "stream",
     "text": [
      "Franklin D. Roosevelt Total Votes: 869825\n",
      "Alfred M. Landon Total Votes: 1280041\n",
      "Difference in Total Votes: 410216\n"
     ]
    }
   ],
   "source": [
    "print('Franklin D. Roosevelt Total Votes: ' + str(ld_total_roosevelt))\n",
    "print('Alfred M. Landon Total Votes: ' + str(ld_total_landon))\n",
    "print('Difference in Total Votes: ' + str(ld_total_difference))"
   ]
  },
  {
   "attachments": {},
   "cell_type": "markdown",
   "metadata": {},
   "source": [
    "## Now, let's look at the actual results of the 1936 Presidential Election"
   ]
  },
  {
   "cell_type": "code",
   "execution_count": 159,
   "metadata": {},
   "outputs": [],
   "source": [
    "import requests\n",
    "from bs4 import BeautifulSoup"
   ]
  },
  {
   "cell_type": "code",
   "execution_count": 160,
   "metadata": {},
   "outputs": [],
   "source": [
    "# Downloading contents of the web page\n",
    "url = 'https://www.presidency.ucsb.edu/statistics/elections/1936'\n",
    "data = requests.get(url).text"
   ]
  },
  {
   "cell_type": "code",
   "execution_count": 161,
   "metadata": {},
   "outputs": [],
   "source": [
    "# Creating BeautifulSoup object\n",
    "soup = BeautifulSoup(data, 'html.parser')\n",
    "\n",
    "# Obtain information from tag <table>\n",
    "table1 = soup.find('table')\n",
    "#table1"
   ]
  },
  {
   "cell_type": "code",
   "execution_count": 162,
   "metadata": {},
   "outputs": [
    {
     "data": {
      "text/html": [
       "<div>\n",
       "<style scoped>\n",
       "    .dataframe tbody tr th:only-of-type {\n",
       "        vertical-align: middle;\n",
       "    }\n",
       "\n",
       "    .dataframe tbody tr th {\n",
       "        vertical-align: top;\n",
       "    }\n",
       "\n",
       "    .dataframe thead tr th {\n",
       "        text-align: left;\n",
       "    }\n",
       "</style>\n",
       "<table border=\"1\" class=\"dataframe\">\n",
       "  <thead>\n",
       "    <tr>\n",
       "      <th></th>\n",
       "      <th colspan=\"2\" halign=\"left\"></th>\n",
       "      <th colspan=\"3\" halign=\"left\">FDR</th>\n",
       "      <th colspan=\"3\" halign=\"left\">AML</th>\n",
       "    </tr>\n",
       "    <tr>\n",
       "      <th></th>\n",
       "      <th>State</th>\n",
       "      <th>Total Vote</th>\n",
       "      <th>Votes</th>\n",
       "      <th>%</th>\n",
       "      <th>EV</th>\n",
       "      <th>Votes</th>\n",
       "      <th>%</th>\n",
       "      <th>EV</th>\n",
       "    </tr>\n",
       "  </thead>\n",
       "  <tbody>\n",
       "  </tbody>\n",
       "</table>\n",
       "</div>"
      ],
      "text/plain": [
       "Empty DataFrame\n",
       "Columns: [(, State), (, Total Vote), (FDR, Votes), (FDR, %), (FDR, EV), (AML, Votes), (AML, %), (AML, EV)]\n",
       "Index: []"
      ]
     },
     "execution_count": 162,
     "metadata": {},
     "output_type": "execute_result"
    }
   ],
   "source": [
    "headers = pd.MultiIndex.from_tuples(tuples = [\n",
    "                                                    ('', 'State'),\n",
    "                                                    ('', 'Total Vote'),\n",
    "                                                    ('FDR', 'Votes'), ('FDR', '%'), ('FDR', 'EV'),\n",
    "                                                    ('AML', 'Votes'), ('AML', '%'), ('AML', 'EV')])\n",
    "us_election = pd.DataFrame(columns=headers)\n",
    "us_election.head()"
   ]
  },
  {
   "cell_type": "code",
   "execution_count": 163,
   "metadata": {},
   "outputs": [],
   "source": [
    "# Create a for loop to fill mydata\n",
    "for j in table1.find_all('tr')[9:-2]:\n",
    " row_data = j.find_all('td')\n",
    " row = [i.text for i in row_data]\n",
    " length = len(us_election)\n",
    " us_election.loc[length] = row"
   ]
  },
  {
   "cell_type": "code",
   "execution_count": 164,
   "metadata": {},
   "outputs": [
    {
     "data": {
      "text/html": [
       "<div>\n",
       "<style scoped>\n",
       "    .dataframe tbody tr th:only-of-type {\n",
       "        vertical-align: middle;\n",
       "    }\n",
       "\n",
       "    .dataframe tbody tr th {\n",
       "        vertical-align: top;\n",
       "    }\n",
       "\n",
       "    .dataframe thead tr th {\n",
       "        text-align: left;\n",
       "    }\n",
       "</style>\n",
       "<table border=\"1\" class=\"dataframe\">\n",
       "  <thead>\n",
       "    <tr>\n",
       "      <th></th>\n",
       "      <th colspan=\"2\" halign=\"left\"></th>\n",
       "      <th colspan=\"3\" halign=\"left\">FDR</th>\n",
       "      <th colspan=\"3\" halign=\"left\">AML</th>\n",
       "    </tr>\n",
       "    <tr>\n",
       "      <th></th>\n",
       "      <th>State</th>\n",
       "      <th>Total Vote</th>\n",
       "      <th>Votes</th>\n",
       "      <th>%</th>\n",
       "      <th>EV</th>\n",
       "      <th>Votes</th>\n",
       "      <th>%</th>\n",
       "      <th>EV</th>\n",
       "    </tr>\n",
       "  </thead>\n",
       "  <tbody>\n",
       "    <tr>\n",
       "      <th>0</th>\n",
       "      <td>Alabama</td>\n",
       "      <td>275,744</td>\n",
       "      <td>238,196</td>\n",
       "      <td>86.4</td>\n",
       "      <td>11</td>\n",
       "      <td>35,358</td>\n",
       "      <td>12.8</td>\n",
       "      <td></td>\n",
       "    </tr>\n",
       "    <tr>\n",
       "      <th>1</th>\n",
       "      <td>Arizona</td>\n",
       "      <td>124,163</td>\n",
       "      <td>86,722</td>\n",
       "      <td>69.8</td>\n",
       "      <td>3</td>\n",
       "      <td>33,433</td>\n",
       "      <td>26.9</td>\n",
       "      <td></td>\n",
       "    </tr>\n",
       "    <tr>\n",
       "      <th>2</th>\n",
       "      <td>Arkansas</td>\n",
       "      <td>179,431</td>\n",
       "      <td>146,765</td>\n",
       "      <td>81.8</td>\n",
       "      <td>9</td>\n",
       "      <td>32,049</td>\n",
       "      <td>17.9</td>\n",
       "      <td></td>\n",
       "    </tr>\n",
       "    <tr>\n",
       "      <th>3</th>\n",
       "      <td>California</td>\n",
       "      <td>2,638,882</td>\n",
       "      <td>1,766,836</td>\n",
       "      <td>67.0</td>\n",
       "      <td>22</td>\n",
       "      <td>836,431</td>\n",
       "      <td>31.7</td>\n",
       "      <td></td>\n",
       "    </tr>\n",
       "    <tr>\n",
       "      <th>4</th>\n",
       "      <td>Colorado</td>\n",
       "      <td>488,685</td>\n",
       "      <td>295,021</td>\n",
       "      <td>60.4</td>\n",
       "      <td>6</td>\n",
       "      <td>181,267</td>\n",
       "      <td>37.1</td>\n",
       "      <td></td>\n",
       "    </tr>\n",
       "  </tbody>\n",
       "</table>\n",
       "</div>"
      ],
      "text/plain": [
       "                                FDR                AML         \n",
       "        State Total Vote      Votes     %  EV    Votes     % EV\n",
       "0     Alabama    275,744    238,196  86.4  11   35,358  12.8   \n",
       "1     Arizona    124,163     86,722  69.8   3   33,433  26.9   \n",
       "2    Arkansas    179,431    146,765  81.8   9   32,049  17.9   \n",
       "3  California  2,638,882  1,766,836  67.0  22  836,431  31.7   \n",
       "4    Colorado    488,685    295,021  60.4   6  181,267  37.1   "
      ]
     },
     "execution_count": 164,
     "metadata": {},
     "output_type": "execute_result"
    }
   ],
   "source": [
    "us_election.head()"
   ]
  },
  {
   "cell_type": "code",
   "execution_count": 165,
   "metadata": {},
   "outputs": [
    {
     "name": "stdout",
     "output_type": "stream",
     "text": [
      "<class 'pandas.core.frame.DataFrame'>\n",
      "Int64Index: 48 entries, 0 to 47\n",
      "Data columns (total 8 columns):\n",
      " #   Column          Non-Null Count  Dtype \n",
      "---  ------          --------------  ----- \n",
      " 0   (, State)       48 non-null     object\n",
      " 1   (, Total Vote)  48 non-null     object\n",
      " 2   (FDR, Votes)    48 non-null     object\n",
      " 3   (FDR, %)        48 non-null     object\n",
      " 4   (FDR, EV)       48 non-null     object\n",
      " 5   (AML, Votes)    48 non-null     object\n",
      " 6   (AML, %)        48 non-null     object\n",
      " 7   (AML, EV)       48 non-null     object\n",
      "dtypes: object(8)\n",
      "memory usage: 3.4+ KB\n"
     ]
    }
   ],
   "source": [
    "us_election.info()"
   ]
  },
  {
   "cell_type": "code",
   "execution_count": 166,
   "metadata": {},
   "outputs": [
    {
     "data": {
      "text/html": [
       "<div>\n",
       "<style scoped>\n",
       "    .dataframe tbody tr th:only-of-type {\n",
       "        vertical-align: middle;\n",
       "    }\n",
       "\n",
       "    .dataframe tbody tr th {\n",
       "        vertical-align: top;\n",
       "    }\n",
       "\n",
       "    .dataframe thead tr th {\n",
       "        text-align: left;\n",
       "    }\n",
       "</style>\n",
       "<table border=\"1\" class=\"dataframe\">\n",
       "  <thead>\n",
       "    <tr>\n",
       "      <th></th>\n",
       "      <th colspan=\"2\" halign=\"left\"></th>\n",
       "      <th colspan=\"3\" halign=\"left\">FDR</th>\n",
       "      <th colspan=\"3\" halign=\"left\">AML</th>\n",
       "    </tr>\n",
       "    <tr>\n",
       "      <th></th>\n",
       "      <th>State</th>\n",
       "      <th>Total Vote</th>\n",
       "      <th>Votes</th>\n",
       "      <th>%</th>\n",
       "      <th>EV</th>\n",
       "      <th>Votes</th>\n",
       "      <th>%</th>\n",
       "      <th>EV</th>\n",
       "    </tr>\n",
       "  </thead>\n",
       "  <tbody>\n",
       "    <tr>\n",
       "      <th>count</th>\n",
       "      <td>48</td>\n",
       "      <td>48</td>\n",
       "      <td>48</td>\n",
       "      <td>48</td>\n",
       "      <td>48</td>\n",
       "      <td>48</td>\n",
       "      <td>48</td>\n",
       "      <td>48</td>\n",
       "    </tr>\n",
       "    <tr>\n",
       "      <th>unique</th>\n",
       "      <td>48</td>\n",
       "      <td>48</td>\n",
       "      <td>48</td>\n",
       "      <td>45</td>\n",
       "      <td>23</td>\n",
       "      <td>48</td>\n",
       "      <td>46</td>\n",
       "      <td>3</td>\n",
       "    </tr>\n",
       "    <tr>\n",
       "      <th>top</th>\n",
       "      <td>Alabama</td>\n",
       "      <td>275,744</td>\n",
       "      <td>238,196</td>\n",
       "      <td>60.6</td>\n",
       "      <td>11</td>\n",
       "      <td>35,358</td>\n",
       "      <td>40.3</td>\n",
       "      <td></td>\n",
       "    </tr>\n",
       "    <tr>\n",
       "      <th>freq</th>\n",
       "      <td>1</td>\n",
       "      <td>1</td>\n",
       "      <td>1</td>\n",
       "      <td>2</td>\n",
       "      <td>7</td>\n",
       "      <td>1</td>\n",
       "      <td>2</td>\n",
       "      <td>46</td>\n",
       "    </tr>\n",
       "  </tbody>\n",
       "</table>\n",
       "</div>"
      ],
      "text/plain": [
       "                                FDR               AML          \n",
       "          State Total Vote    Votes     %  EV   Votes     %  EV\n",
       "count        48         48       48    48  48      48    48  48\n",
       "unique       48         48       48    45  23      48    46   3\n",
       "top     Alabama    275,744  238,196  60.6  11  35,358  40.3    \n",
       "freq          1          1        1     2   7       1     2  46"
      ]
     },
     "execution_count": 166,
     "metadata": {},
     "output_type": "execute_result"
    }
   ],
   "source": [
    "us_election.describe()"
   ]
  },
  {
   "cell_type": "code",
   "execution_count": 167,
   "metadata": {},
   "outputs": [],
   "source": [
    "election_states = us_election['']['State']\n",
    "election_landon = us_election['AML']['Votes']\n",
    "election_roosevelt = us_election['FDR']['Votes']"
   ]
  },
  {
   "attachments": {},
   "cell_type": "markdown",
   "metadata": {},
   "source": [
    "### Typical Data Analysis Error Example"
   ]
  },
  {
   "cell_type": "code",
   "execution_count": null,
   "metadata": {},
   "outputs": [],
   "source": [
    "fig = plt.figure(figsize=(14,10))\n",
    "p1 = plt.barh(election_states, election_landon)\n",
    "p2 = plt.barh(election_states, election_roosevelt)\n",
    "plt.xlabel('Electoral Votes')\n",
    "plt.title('1936 U.S. Election Sample Statistic')\n",
    "plt.ylabel('States')\n",
    "plt.legend((p1[0], p2[0]), ('Landon', 'Roosevelt'))\n",
    "plt.show()"
   ]
  },
  {
   "attachments": {},
   "cell_type": "markdown",
   "metadata": {},
   "source": [
    "Notice that the dataframe's column, 'Votes' has a string instead of an int64! This will affect our bar plot, so we must fix this."
   ]
  },
  {
   "cell_type": "code",
   "execution_count": null,
   "metadata": {},
   "outputs": [],
   "source": [
    "us_election.head()"
   ]
  },
  {
   "cell_type": "code",
   "execution_count": null,
   "metadata": {},
   "outputs": [],
   "source": [
    "type(us_election['FDR']['Votes'][0]) # Alabama votes for FDR"
   ]
  },
  {
   "attachments": {},
   "cell_type": "markdown",
   "metadata": {},
   "source": [
    "This can be fixed with a few lines of python code with our imported libraries. "
   ]
  },
  {
   "cell_type": "code",
   "execution_count": 169,
   "metadata": {},
   "outputs": [],
   "source": [
    "# Remove comma punctuation from strings\n",
    "us_election = us_election.replace(',','', regex=True)\n",
    "# Convert 'Votes' column into integer type\n",
    "election_landon = us_election['AML']['Votes'].astype(int)\n",
    "election_roosevelt = us_election['FDR']['Votes'].astype(int)"
   ]
  },
  {
   "cell_type": "code",
   "execution_count": 170,
   "metadata": {},
   "outputs": [
    {
     "data": {
      "text/html": [
       "<div>\n",
       "<style scoped>\n",
       "    .dataframe tbody tr th:only-of-type {\n",
       "        vertical-align: middle;\n",
       "    }\n",
       "\n",
       "    .dataframe tbody tr th {\n",
       "        vertical-align: top;\n",
       "    }\n",
       "\n",
       "    .dataframe thead tr th {\n",
       "        text-align: left;\n",
       "    }\n",
       "</style>\n",
       "<table border=\"1\" class=\"dataframe\">\n",
       "  <thead>\n",
       "    <tr>\n",
       "      <th></th>\n",
       "      <th colspan=\"2\" halign=\"left\"></th>\n",
       "      <th colspan=\"3\" halign=\"left\">FDR</th>\n",
       "      <th colspan=\"3\" halign=\"left\">AML</th>\n",
       "    </tr>\n",
       "    <tr>\n",
       "      <th></th>\n",
       "      <th>State</th>\n",
       "      <th>Total Vote</th>\n",
       "      <th>Votes</th>\n",
       "      <th>%</th>\n",
       "      <th>EV</th>\n",
       "      <th>Votes</th>\n",
       "      <th>%</th>\n",
       "      <th>EV</th>\n",
       "    </tr>\n",
       "  </thead>\n",
       "  <tbody>\n",
       "    <tr>\n",
       "      <th>0</th>\n",
       "      <td>Alabama</td>\n",
       "      <td>275744</td>\n",
       "      <td>238196</td>\n",
       "      <td>86.4</td>\n",
       "      <td>11</td>\n",
       "      <td>35358</td>\n",
       "      <td>12.8</td>\n",
       "      <td></td>\n",
       "    </tr>\n",
       "    <tr>\n",
       "      <th>1</th>\n",
       "      <td>Arizona</td>\n",
       "      <td>124163</td>\n",
       "      <td>86722</td>\n",
       "      <td>69.8</td>\n",
       "      <td>3</td>\n",
       "      <td>33433</td>\n",
       "      <td>26.9</td>\n",
       "      <td></td>\n",
       "    </tr>\n",
       "    <tr>\n",
       "      <th>2</th>\n",
       "      <td>Arkansas</td>\n",
       "      <td>179431</td>\n",
       "      <td>146765</td>\n",
       "      <td>81.8</td>\n",
       "      <td>9</td>\n",
       "      <td>32049</td>\n",
       "      <td>17.9</td>\n",
       "      <td></td>\n",
       "    </tr>\n",
       "    <tr>\n",
       "      <th>3</th>\n",
       "      <td>California</td>\n",
       "      <td>2638882</td>\n",
       "      <td>1766836</td>\n",
       "      <td>67.0</td>\n",
       "      <td>22</td>\n",
       "      <td>836431</td>\n",
       "      <td>31.7</td>\n",
       "      <td></td>\n",
       "    </tr>\n",
       "    <tr>\n",
       "      <th>4</th>\n",
       "      <td>Colorado</td>\n",
       "      <td>488685</td>\n",
       "      <td>295021</td>\n",
       "      <td>60.4</td>\n",
       "      <td>6</td>\n",
       "      <td>181267</td>\n",
       "      <td>37.1</td>\n",
       "      <td></td>\n",
       "    </tr>\n",
       "  </tbody>\n",
       "</table>\n",
       "</div>"
      ],
      "text/plain": [
       "                              FDR               AML         \n",
       "        State Total Vote    Votes     %  EV   Votes     % EV\n",
       "0     Alabama     275744   238196  86.4  11   35358  12.8   \n",
       "1     Arizona     124163    86722  69.8   3   33433  26.9   \n",
       "2    Arkansas     179431   146765  81.8   9   32049  17.9   \n",
       "3  California    2638882  1766836  67.0  22  836431  31.7   \n",
       "4    Colorado     488685   295021  60.4   6  181267  37.1   "
      ]
     },
     "execution_count": 170,
     "metadata": {},
     "output_type": "execute_result"
    }
   ],
   "source": [
    "us_election.head()"
   ]
  },
  {
   "attachments": {},
   "cell_type": "markdown",
   "metadata": {},
   "source": [
    "###  "
   ]
  },
  {
   "cell_type": "code",
   "execution_count": 171,
   "metadata": {},
   "outputs": [
    {
     "data": {
      "image/png": "[encoded data removed]",
      "text/plain": [
       "<Figure size 1008x720 with 1 Axes>"
      ]
     },
     "metadata": {
      "needs_background": "light"
     },
     "output_type": "display_data"
    }
   ],
   "source": [
    "fig = plt.figure(figsize=(14,10))\n",
    "p1 = plt.barh(election_states, election_landon)\n",
    "p2 = plt.barh(election_states, election_roosevelt)\n",
    "plt.xlabel('Electoral Votes')\n",
    "plt.title('1936 U.S. Election Sample Statistic')\n",
    "plt.ylabel('States')\n",
    "plt.legend((p1[0], p2[0]), ('Landon', 'Roosevelt'))\n",
    "plt.show()"
   ]
  },
  {
   "cell_type": "code",
   "execution_count": 172,
   "metadata": {},
   "outputs": [],
   "source": [
    "election_total_roosevelt = election_roosevelt.sum()\n",
    "election_total_landon = election_landon.sum()\n",
    "election_total_difference = abs(election_total_roosevelt - election_total_landon)"
   ]
  },
  {
   "cell_type": "code",
   "execution_count": 174,
   "metadata": {},
   "outputs": [
    {
     "name": "stdout",
     "output_type": "stream",
     "text": [
      "Franklin D. Roosevelt Total Votes: 27750866\n",
      "Alfred M. Landon Total Votes: 16679683\n",
      "Difference in Total Votes: 11071183\n"
     ]
    }
   ],
   "source": [
    "print('Franklin D. Roosevelt Total Votes: ' + str(election_total_roosevelt))\n",
    "print('Alfred M. Landon Total Votes: ' + str(election_total_landon))\n",
    "print('Difference in Total Votes: ' + str(election_total_difference))"
   ]
  },
  {
   "attachments": {},
   "cell_type": "markdown",
   "metadata": {},
   "source": [
    "## Conclusion"
   ]
  },
  {
   "attachments": {},
   "cell_type": "markdown",
   "metadata": {},
   "source": [
    "Based on the poll, The Literary Digest predicted that Landon would win the 1936 presidential election with 57.1% of the popular vote and an electoral college margin of 370 to 161. In fact, Roosevelt won the election with 60.8% of the popular vote (27,751,841 to 16,679,491) and an electoral college landslide of 523 to 8 (the largest ever in a presidential election). Roosevelt won 46 of 48 states, losing only Maine and Vermont.\n",
    "\n",
    "The Literary Digest, using similar techniques, had correctly predicted the outcome of the last four presidential elections. But in this case, the magazine was not just wrong, it was spectacularly wrong. In part because of the subsequent loss of prestige and credibility, the magazine died just two years later.\n",
    "\n",
    "What went wrong? Clearly the sample was skewed towards wealthier voters—those who could afford magazine subscriptions, cars, phones, and club memberships in the depths of the Great Depression. This sort of bias would not matter if wealthier voters behaved in a similar manner to voters as a whole (as was basically the case in the previous four elections). But in 1936, at a time of great tension between economic classes, this was definitely not the case.\n",
    "\n",
    "Another problem, not easily understood, is self-selection bias. Were the voters who chose to return the questionnaires different, in terms of how they planned to vote, from the voters who did not respond?"
   ]
  }
 ],
 "metadata": {
  "kernelspec": {
   "display_name": "base",
   "language": "python",
   "name": "python3"
  },
  "language_info": {
   "codemirror_mode": {
    "name": "ipython",
    "version": 3
   },
   "file_extension": ".py",
   "mimetype": "text/x-python",
   "name": "python",
   "nbconvert_exporter": "python",
   "pygments_lexer": "ipython3",
   "version": "3.9.12"
  },
  "orig_nbformat": 4,
  "vscode": {
   "interpreter": {
    "hash": "d6fb3b26ffcd97db4b0813cca8da8814a33fad1df7abb64aaaedff323e58936d"
   }
  }
 },
 "nbformat": 4,
 "nbformat_minor": 2
}
